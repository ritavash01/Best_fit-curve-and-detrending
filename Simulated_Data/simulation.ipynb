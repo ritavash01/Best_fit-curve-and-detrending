{
 "cells": [
  {
   "cell_type": "code",
   "execution_count": 1,
   "metadata": {},
   "outputs": [],
   "source": [
    "import numpy as np\n",
    "import matplotlib.pyplot as plt\n",
    "\n",
    "# Parameters\n",
    "time_points = 300  # x-axis\n",
    "frequency_points = 4096  # y-axis\n",
    "sigma = 1  # Standard deviation of base Gaussian noise\n",
    "\n",
    "# Generate base complex Gaussian noise\n",
    "real_part = np.random.normal(loc=0, scale=sigma, size=(frequency_points, time_points))\n",
    "imaginary_part = np.random.normal(loc=0, scale=sigma, size=(frequency_points, time_points))\n",
    "complex_gaussian_noise = real_part + 1j * imaginary_part\n",
    "\n",
    "# Parameters for additional Gaussian noise\n",
    "time_center = 150  # Center of time\n",
    "frequency_center = 2000  # Center of frequency\n",
    "frequency_range = (1000, 3000)  # Frequency range\n",
    "time_sigma = 3  # Spread of Gaussian in time\n",
    "frequency_sigma = 1000 / 3  # Spread in frequency (1/3 of range)\n",
    "\n",
    "# Create a grid for the 2D Gaussian\n",
    "time = np.linspace(0, time_points - 1, time_points)\n",
    "frequency = np.linspace(0, frequency_points - 1, frequency_points)\n",
    "time_grid, frequency_grid = np.meshgrid(time, frequency)\n",
    "\n",
    "# Generate 2D Gaussian noise\n",
    "gaussian_noise = np.exp(-((time_grid - time_center) ** 2 / (2 * time_sigma ** 2) +\n",
    "                          (frequency_grid - frequency_center) ** 2 / (2 * frequency_sigma ** 2)))\n",
    "\n",
    "# Apply strict masking to limit noise to the specified frequency range\n",
    "mask = (frequency_grid >= frequency_range[0]) & (frequency_grid <= frequency_range[1])\n",
    "gaussian_noise = gaussian_noise * mask  # Zero out values outside the range\n",
    "\n",
    "# Add the 2D Gaussian to the base noise\n",
    "complex_gaussian_noise += gaussian_noise\n",
    "\n",
    "# Compute magnitude for visualization\n",
    "magnitude = np.abs(complex_gaussian_noise)\n",
    "\n",
    "# Save the magnitude matrix as a CSV file\n",
    "np.savetxt(\"complex_gaussian_noise.txt\", magnitude, delimiter=\" \")\n",
    "\n",
    "# Optionally, you can visualize the heatmap as well\n",
    "plt.figure(figsize=(10, 6))\n",
    "plt.imshow(magnitude, aspect='auto', origin='lower', cmap='viridis', extent=[0, time_points, 0, frequency_points])\n",
    "plt.colorbar(label='Magnitude')\n",
    "plt.xlabel('Time')\n",
    "plt.ylabel('Frequency')\n",
    "plt.title('Heatmap of Complex Gaussian Noise with Strictly Localized Additional Noise')\n",
    "plt.show()\n"
   ]
  },
  {
   "cell_type": "code",
   "execution_count": null,
   "metadata": {},
   "outputs": [],
   "source": []
  }
 ],
 "metadata": {
  "kernelspec": {
   "display_name": "Python (base)",
   "language": "python",
   "name": "base"
  },
  "language_info": {
   "codemirror_mode": {
    "name": "ipython",
    "version": 3
   },
   "file_extension": ".py",
   "mimetype": "text/x-python",
   "name": "python",
   "nbconvert_exporter": "python",
   "pygments_lexer": "ipython3",
   "version": "3.12.8"
  }
 },
 "nbformat": 4,
 "nbformat_minor": 2
}
